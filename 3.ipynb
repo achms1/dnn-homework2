{
 "cells": [
  {
   "cell_type": "code",
   "execution_count": 1,
   "metadata": {},
   "outputs": [],
   "source": [
    "# Ex3\n",
    "import torch\n",
    "import torch.nn as nn\n",
    "import torch.nn.functional as F\n",
    "from torch.utils.data import DataLoader\n",
    "import torchvision.transforms as transforms\n",
    "from torchvision import datasets\n",
    "import matplotlib.pyplot as plt\n",
    "import pandas as pd\n",
    "import time"
   ]
  },
  {
   "cell_type": "code",
   "execution_count": 2,
   "metadata": {},
   "outputs": [],
   "source": [
    "HP = {'num_epochs': 10,\n",
    "       'learning_rate': .002,\n",
    "       'batch_size': 50,\n",
    "       'num_classes': 10}"
   ]
  },
  {
   "cell_type": "code",
   "execution_count": 3,
   "metadata": {},
   "outputs": [],
   "source": [
    "trans = transforms.Compose([transforms.ToTensor(), transforms.Normalize((0.5,),(0.5,))])"
   ]
  },
  {
   "cell_type": "code",
   "execution_count": 4,
   "metadata": {},
   "outputs": [
    {
     "name": "stdout",
     "output_type": "stream",
     "text": [
      "Downloading http://fashion-mnist.s3-website.eu-central-1.amazonaws.com/train-images-idx3-ubyte.gz to data_fashionMNIST\\FashionMNIST\\raw\\train-images-idx3-ubyte.gz\n"
     ]
    },
    {
     "data": {
      "application/vnd.jupyter.widget-view+json": {
       "model_id": "5583a8fd38db4e5d93ffd4b1d2e1746e",
       "version_major": 2,
       "version_minor": 0
      },
      "text/plain": [
       "HBox(children=(IntProgress(value=1, bar_style='info', max=1), HTML(value='')))"
      ]
     },
     "metadata": {},
     "output_type": "display_data"
    },
    {
     "name": "stdout",
     "output_type": "stream",
     "text": [
      "Extracting data_fashionMNIST\\FashionMNIST\\raw\\train-images-idx3-ubyte.gz to data_fashionMNIST\\FashionMNIST\\raw\n",
      "Downloading http://fashion-mnist.s3-website.eu-central-1.amazonaws.com/train-labels-idx1-ubyte.gz to data_fashionMNIST\\FashionMNIST\\raw\\train-labels-idx1-ubyte.gz\n"
     ]
    },
    {
     "data": {
      "application/vnd.jupyter.widget-view+json": {
       "model_id": "5b09c1cd58b244c390c64309dbe7936a",
       "version_major": 2,
       "version_minor": 0
      },
      "text/plain": [
       "HBox(children=(IntProgress(value=1, bar_style='info', max=1), HTML(value='')))"
      ]
     },
     "metadata": {},
     "output_type": "display_data"
    },
    {
     "name": "stdout",
     "output_type": "stream",
     "text": [
      "Extracting data_fashionMNIST\\FashionMNIST\\raw\\train-labels-idx1-ubyte.gz to data_fashionMNIST\\FashionMNIST\\raw\n",
      "Downloading http://fashion-mnist.s3-website.eu-central-1.amazonaws.com/t10k-images-idx3-ubyte.gz to data_fashionMNIST\\FashionMNIST\\raw\\t10k-images-idx3-ubyte.gz\n"
     ]
    },
    {
     "data": {
      "application/vnd.jupyter.widget-view+json": {
       "model_id": "e533bb90fb8b4ccfb41c8052f4446e9d",
       "version_major": 2,
       "version_minor": 0
      },
      "text/plain": [
       "HBox(children=(IntProgress(value=1, bar_style='info', max=1), HTML(value='')))"
      ]
     },
     "metadata": {},
     "output_type": "display_data"
    },
    {
     "name": "stdout",
     "output_type": "stream",
     "text": [
      "Extracting data_fashionMNIST\\FashionMNIST\\raw\\t10k-images-idx3-ubyte.gz to data_fashionMNIST\\FashionMNIST\\raw\n",
      "Downloading http://fashion-mnist.s3-website.eu-central-1.amazonaws.com/t10k-labels-idx1-ubyte.gz to data_fashionMNIST\\FashionMNIST\\raw\\t10k-labels-idx1-ubyte.gz\n",
      "\n",
      "\n"
     ]
    },
    {
     "data": {
      "application/vnd.jupyter.widget-view+json": {
       "model_id": "d2dc88dbebda4a6fa5d8d1d3b0263ff1",
       "version_major": 2,
       "version_minor": 0
      },
      "text/plain": [
       "HBox(children=(IntProgress(value=1, bar_style='info', max=1), HTML(value='')))"
      ]
     },
     "metadata": {},
     "output_type": "display_data"
    },
    {
     "name": "stdout",
     "output_type": "stream",
     "text": [
      "Extracting data_fashionMNIST\\FashionMNIST\\raw\\t10k-labels-idx1-ubyte.gz to data_fashionMNIST\\FashionMNIST\\raw\n",
      "Processing...\n",
      "Done!\n"
     ]
    }
   ],
   "source": [
    "# MNIST fashion dataset\n",
    "train_dataset = datasets.FashionMNIST('data_fashionMNIST', train = True, transform = trans, download = True)\n",
    "test_dataset = datasets.FashionMNIST('data_fashionMNIST', train = False, transform = trans)\n",
    "# Data loader\n",
    "train_loader = DataLoader(dataset = train_dataset, batch_size = HP['batch_size'], shuffle = True)\n",
    "test_loader = DataLoader(dataset = test_dataset, batch_size = HP['batch_size'], shuffle = False)"
   ]
  },
  {
   "cell_type": "code",
   "execution_count": 5,
   "metadata": {},
   "outputs": [],
   "source": [
    "class ConvNet(nn.Module):\n",
    "    def __init__(self):\n",
    "        super(ConvNet, self).__init__()\n",
    "        self.conv1 = nn.Conv2d(1, 32, kernel_size=3, stride=1, padding=1)\n",
    "        self.pool1 = nn.MaxPool2d(kernel_size=2, stride=2)\n",
    "        self.conv2 = nn.Conv2d(32, 64, kernel_size=3, stride=1, padding=1)\n",
    "        self.pool2 = nn.MaxPool2d(kernel_size=2, stride=2)\n",
    "        self.drop_out = nn.Dropout()\n",
    "        self.fc1 = nn.Linear(7*7*64,1000)\n",
    "        self.fc2 = nn.Linear(1000,10)\n",
    "    def forward(self, x):\n",
    "        z1 = F.relu(self.conv1(x))\n",
    "        z2 = self.pool1(z1)\n",
    "        z3 = F.relu(self.conv2(z2))\n",
    "        z4 = self.pool2(z3)\n",
    "        s = self.drop_out(z4.reshape(z4.size(0),-1))\n",
    "        z5 = self.fc1(s)\n",
    "        z6 = self.fc2(z5)\n",
    "        return z5"
   ]
  },
  {
   "cell_type": "code",
   "execution_count": 6,
   "metadata": {},
   "outputs": [],
   "source": [
    "model = ConvNet()\n",
    "#Loss function\n",
    "criterion = nn.CrossEntropyLoss()\n",
    "#Optimizer\n",
    "optimizer = torch.optim.Adam(model.parameters(), lr = HP['learning_rate'])\n",
    "#Frame setup for results\n",
    "N_train = len(train_dataset)   \n",
    "N_test = len(test_dataset)     \n",
    "#t0 = time.time()\n",
    "df = pd.DataFrame(columns=('epoch', 'loss_train','loss_test', 'accuracy_train','accuracy_test'))\n",
    "total_step = len(train_loader)"
   ]
  },
  {
   "cell_type": "code",
   "execution_count": 7,
   "metadata": {},
   "outputs": [
    {
     "name": "stdout",
     "output_type": "stream",
     "text": [
      "-- epoch 0\n",
      "loss =====0.4841986516366402\n",
      "loss =====0.33820333652198314\n",
      " accuracy (train, test): 0.8298, 0.8789\n",
      "-- epoch 1\n",
      "loss =====0.33261330634976427\n",
      "loss =====0.29208550572395325\n",
      " accuracy (train, test): 0.8814, 0.8966\n",
      "-- epoch 2\n",
      "loss =====0.2943026468716562\n",
      "loss =====0.28337076999247074\n",
      " accuracy (train, test): 0.8947, 0.8991\n",
      "-- epoch 3\n",
      "loss =====0.2767421582372238\n",
      "loss =====0.25830568827688694\n",
      " accuracy (train, test): 0.8997, 0.9079\n",
      "-- epoch 4\n",
      "loss =====0.26106405118169884\n",
      "loss =====0.2569559730216861\n",
      " accuracy (train, test): 0.9053, 0.9101\n",
      "-- epoch 5\n",
      "loss =====0.24771348300700385\n",
      "loss =====0.2548133233003318\n",
      " accuracy (train, test): 0.9102, 0.9089\n",
      "-- epoch 6\n",
      "loss =====0.24222437724781531\n",
      "loss =====0.24508908145129682\n",
      " accuracy (train, test): 0.9123, 0.9119\n",
      "-- epoch 7\n",
      "loss =====0.23476914980138341\n",
      "loss =====0.2477314309589565\n",
      " accuracy (train, test): 0.9156, 0.9125\n",
      "-- epoch 8\n",
      "loss =====0.22840323630099493\n",
      "loss =====0.24232914909720424\n",
      " accuracy (train, test): 0.9172, 0.9135\n",
      "-- epoch 9\n",
      "loss =====0.22085826778939616\n",
      "loss =====0.24316789746284484\n",
      " accuracy (train, test): 0.9192, 0.9153\n"
     ]
    }
   ],
   "source": [
    "for epoch in range(HP['num_epochs']):\n",
    "    print('-- epoch ' + str(epoch))\n",
    "    running_loss_train = 0.0\n",
    "    accuracy_train = 0.0\n",
    "    model.train()\n",
    "    for i, (X, y) in enumerate(train_loader):\n",
    "        # forward pass, compute the scores and loss\n",
    "        scores = model(X)\n",
    "        loss = criterion(scores, y)\n",
    "        # backprop and optimization, initialize the gradient \"∇ loss\" to zero\n",
    "        optimizer.zero_grad()\n",
    "        # estimate the gradient (back propagation)\n",
    "        loss.backward()\n",
    "        # update the parameters\n",
    "        optimizer.step()\n",
    "        # estimate the loss and accuracy\n",
    "        running_loss_train += loss.detach().numpy()\n",
    "        accuracy_train += (scores.argmax(dim=1) == y).sum().numpy()\n",
    "    #test model\n",
    "    model.eval()\n",
    "    with torch.no_grad():\n",
    "        accuracy_test = 0.0\n",
    "        running_loss_test = 0.0\n",
    "        for X, y in test_loader:\n",
    "            scores = model(X)\n",
    "            loss = criterion(scores, y)\n",
    "            _, predicted = torch.max(scores.data, 1)\n",
    "            running_loss_test += loss.detach().numpy()\n",
    "            accuracy_test += (scores.argmax(dim=1) == y).sum().numpy()      \n",
    "#calculate loss and accuracy, store values\n",
    "    # normalize\n",
    "    accuracy_train /= N_train\n",
    "    accuracy_test /= N_test\n",
    "    average_loss_train = running_loss_train/N_train*HP['batch_size']\n",
    "    average_loss_test = running_loss_test/N_test*HP['batch_size']\n",
    "    print('loss ====='+str(average_loss_train))\n",
    "    print('loss ====='+str(average_loss_test))\n",
    "    print(' accuracy (train, test): {:.4f}, {:.4f}'.format(accuracy_train, accuracy_test))\n",
    "    #print('accuracy (train/test) : '+str(accuracy_train)+' '+str(accuracy_test))\n",
    "    df.loc[epoch] = [epoch, average_loss_train,average_loss_test, accuracy_train, accuracy_test]"
   ]
  },
  {
   "cell_type": "code",
   "execution_count": 8,
   "metadata": {},
   "outputs": [
    {
     "data": {
      "image/png": "[encoded data removed]",
      "text/plain": [
       "<Figure size 432x288 with 1 Axes>"
      ]
     },
     "metadata": {
      "needs_background": "light"
     },
     "output_type": "display_data"
    }
   ],
   "source": [
    "plt.plot(df['epoch'],df['loss_train'],color='blue', label= r'Train Loss') \n",
    "plt.plot(df['epoch'],df['loss_test'],color='green', label= r'Test Loss')\n",
    "plt.plot(df['epoch'],df['accuracy_train'],color='black', label= r'Accuracy Train')\n",
    "plt.plot(df['epoch'],df['accuracy_test'],color='red', label= r'Accuracy Test')\n",
    "plt.axis([0, HP['num_epochs'], 0, 1])\n",
    "plt.grid()\n",
    "plt.xlabel('epochs')\n",
    "plt.legend(bbox_to_anchor=(1.05, 1), loc='upper left', borderaxespad=0.)\n",
    "plt.show()"
   ]
  },
  {
   "cell_type": "code",
   "execution_count": null,
   "metadata": {},
   "outputs": [],
   "source": []
  }
 ],
 "metadata": {
  "kernelspec": {
   "display_name": "Python 3",
   "language": "python",
   "name": "python3"
  },
  "language_info": {
   "codemirror_mode": {
    "name": "ipython",
    "version": 3
   },
   "file_extension": ".py",
   "mimetype": "text/x-python",
   "name": "python",
   "nbconvert_exporter": "python",
   "pygments_lexer": "ipython3",
   "version": "3.7.4"
  }
 },
 "nbformat": 4,
 "nbformat_minor": 4
}
